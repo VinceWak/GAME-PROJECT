{
 "cells": [
  {
   "cell_type": "code",
   "execution_count": 1,
   "id": "1677a387",
   "metadata": {},
   "outputs": [
    {
     "name": "stdout",
     "output_type": "stream",
     "text": [
      "Enter your email: khg\n"
     ]
    },
    {
     "data": {
      "text/plain": [
       "('Password: ', '6\"oR6.xF6%eW1)iB3(vR')"
      ]
     },
     "execution_count": 1,
     "metadata": {},
     "output_type": "execute_result"
    }
   ],
   "source": [
    "import random\n",
    "import re\n",
    "\n",
    "def generate_password():\n",
    "  username = str(input(\"Enter your email: \"))\n",
    "  character_number = [chr(i) for i in range(48,57)]\n",
    "  character_symbol = [chr(i) for i in range(33,47)]\n",
    "  character_lower = [chr(i) for i in range(97,122)]\n",
    "  character_upper = [chr(i) for i in range(65,90)]\n",
    "  total_character = [chr(i) for i in range(33,122)]\n",
    "\n",
    "  lists = []\n",
    "  lists.append(character_number)\n",
    "  lists.append(character_symbol)\n",
    "  lists.append(character_lower)\n",
    "  lists.append(character_upper)\n",
    "\n",
    "  password = []\n",
    "  n = 5\n",
    "\n",
    "  for i in range(n):\n",
    "    for j in range(4):\n",
    "      randomItem = random.sample(lists[j],1)\n",
    "      password.append(randomItem)\n",
    "      i = i+1\n",
    "      \n",
    "  password_str = ''.join(map(str,password))\n",
    "  password_str = ''.join([i[0] for i in password])\n",
    "  return \"Password: \", password_str\n",
    "generate_password()"
   ]
  },
  {
   "cell_type": "code",
   "execution_count": null,
   "id": "4870dee9",
   "metadata": {},
   "outputs": [],
   "source": []
  }
 ],
 "metadata": {
  "kernelspec": {
   "display_name": "Python 3 (ipykernel)",
   "language": "python",
   "name": "python3"
  },
  "language_info": {
   "codemirror_mode": {
    "name": "ipython",
    "version": 3
   },
   "file_extension": ".py",
   "mimetype": "text/x-python",
   "name": "python",
   "nbconvert_exporter": "python",
   "pygments_lexer": "ipython3",
   "version": "3.9.13"
  }
 },
 "nbformat": 4,
 "nbformat_minor": 5
}
