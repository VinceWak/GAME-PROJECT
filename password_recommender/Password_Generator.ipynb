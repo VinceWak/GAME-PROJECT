{
  "nbformat": 4,
  "nbformat_minor": 0,
  "metadata": {
    "colab": {
      "provenance": []
    },
    "kernelspec": {
      "name": "python3",
      "display_name": "Python 3"
    },
    "language_info": {
      "name": "python"
    }
  },
  "cells": [
    {
      "cell_type": "code",
      "source": [
        "import random\n",
        "import re\n",
        "\n",
        "def generate_password():\n",
        "  character_number = [chr(i) for i in range(48,57)]\n",
        "  character_symbol = [chr(i) for i in range(33,47)]\n",
        "  character_lower = [chr(i) for i in range(97,122)]\n",
        "  character_upper = [chr(i) for i in range(65,90)]\n",
        "  total_character = [chr(i) for i in range(33,122)]\n",
        "  lists = []\n",
        "  lists.append(character_number)\n",
        "  lists.append(character_symbol)\n",
        "  lists.append(character_lower)\n",
        "  lists.append(character_upper)\n",
        "\n",
        "  password = []\n",
        "  n = 20\n",
        "\n",
        "  for i in range(n):\n",
        "    for j in range(4):\n",
        "      randomItem = random.sample(lists[j],1)\n",
        "      #Appends lists of random samples of length 1 to our list password\n",
        "      password.append(randomItem)\n",
        "  #Turns that list of lists into a string variable    \n",
        "  password_str = ''.join([i[0] for i in password])\n",
        "  #Randomly organises the items in password_str\n",
        "  password_str = ''.join(random.sample(password_str,len(password_str)))\n",
        "  return (\"Your Password is: %s\"%password_str)\n",
        "\n",
        "username = str(input(\"Your email is: \"))\n",
        "pattern = \"[\\w+\\.-]+@[\\w+]+\\.[\\w+]+\"\n",
        " \n",
        "while True:\n",
        "  \n",
        "  if re.findall(pattern, username):\n",
        "    print(generate_password())\n",
        "    break\n",
        "  else:\n",
        "    print(\"Please input a proper email address:\")\n",
        "    type2 = str(input(\"Your email is: \"))\n",
        "    username = type2\n",
        "    generate_password()\n",
        "\n",
        "\n"
      ],
      "metadata": {
        "colab": {
          "base_uri": "https://localhost:8080/"
        },
        "id": "9l90dtJEiRjC",
        "outputId": "d2fd604b-28ca-4d7d-bc58-911ce3165acb"
      },
      "execution_count": null,
      "outputs": [
        {
          "output_type": "stream",
          "name": "stdout",
          "text": [
            "Your email is: g@g.com\n",
            "Your Password is: 1%MeC&1-$.\"a1f#2*PQ4Skyc2HX*!Bjnx0Qo6y,iK!G'31&2WX7Yd-4u-Q3+p(S5'47y0Dqq!AP37fsP\n"
          ]
        }
      ]
    },
    {
      "cell_type": "code",
      "source": [],
      "metadata": {
        "id": "WFhYpIqKil96"
      },
      "execution_count": null,
      "outputs": []
    }
  ]
}